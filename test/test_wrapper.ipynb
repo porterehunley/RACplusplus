{
 "cells": [
  {
   "cell_type": "code",
   "execution_count": 1,
   "source": [
    "import sys\n",
    "import os\n",
    "import pybind11\n",
    "\n",
    "# Append the parent directory of racplusplus package to system path\n",
    "sys.path.append(os.path.join(os.getcwd(), \"..\", \"build\"))\n",
    "print(sys.path)\n",
    "print(sys.version)\n",
    "\n",
    "import numpy as np\n",
    "import racplusplus\n",
    "import scipy.sparse as sp"
   ],
   "outputs": [
    {
     "output_type": "stream",
     "name": "stdout",
     "text": [
      "['/Users/danielfrees/Desktop/racplusplus/test', '/Users/danielfrees/.vscode/extensions/ms-toolsai.jupyter-2021.8.2041215044/pythonFiles/vscode_datascience_helpers', '/Users/danielfrees/.vscode/extensions/ms-toolsai.jupyter-2021.8.2041215044/pythonFiles', '/Users/danielfrees/.vscode/extensions/ms-toolsai.jupyter-2021.8.2041215044/pythonFiles/lib/python', '/Users/danielfrees/miniconda3/envs/racplusplus/lib/python311.zip', '/Users/danielfrees/miniconda3/envs/racplusplus/lib/python3.11', '/Users/danielfrees/miniconda3/envs/racplusplus/lib/python3.11/lib-dynload', '', '/Users/danielfrees/miniconda3/envs/racplusplus/lib/python3.11/site-packages', '/Users/danielfrees/Desktop/racplusplus/test/../build']\n",
      "3.11.3 (main, Apr 19 2023, 18:51:09) [Clang 14.0.6 ]\n"
     ]
    }
   ],
   "metadata": {}
  },
  {
   "cell_type": "code",
   "execution_count": 2,
   "source": [
    "import psutil\n",
    "# Get the current process ID (PID) of the Jupyter kernel\n",
    "pid = psutil.Process().pid\n",
    "# Get the memory information for the Jupyter kernel process\n",
    "process = psutil.Process(pid)\n",
    "memory_info = process.memory_info()\n",
    "# Print the current memory size in bytes\n",
    "print(\"Current memory size:\", memory_info.rss, \"bytes\")\n",
    "# Alternatively, print the memory size in a more human-readable format\n",
    "print(\"Current memory size:\", psutil._common.bytes2human(memory_info.rss))\n"
   ],
   "outputs": [
    {
     "output_type": "stream",
     "name": "stdout",
     "text": [
      "Current memory size: 141746176 bytes\n",
      "Current memory size: 135.2M\n"
     ]
    }
   ],
   "metadata": {}
  },
  {
   "cell_type": "code",
   "execution_count": 3,
   "source": [
    "racplusplus.stupid_pybind_test()"
   ],
   "outputs": [
    {
     "output_type": "stream",
     "name": "stdout",
     "text": [
      "this is a pybind test.\n"
     ]
    }
   ],
   "metadata": {}
  },
  {
   "cell_type": "code",
   "execution_count": 4,
   "source": [
    "# Size of the matrix\n",
    "rows = 10000\n",
    "cols = 10000\n",
    "density = 0.01\n",
    "\n",
    "# Number of ones and zeros\n",
    "num_ones = int(rows * cols * density)\n",
    "\n",
    "# Generate random indices for ones\n",
    "one_indices = np.random.choice(rows * cols, num_ones, replace=False)\n",
    "\n",
    "# Create the sparse matrix\n",
    "connectivity_matrix = sp.lil_matrix((rows, cols))\n",
    "connectivity_matrix[np.unravel_index(one_indices, (rows, cols))] = 1"
   ],
   "outputs": [],
   "metadata": {}
  },
  {
   "cell_type": "code",
   "execution_count": 8,
   "source": [
    "str(connectivity_matrix[0])"
   ],
   "outputs": [
    {
     "output_type": "execute_result",
     "data": {
      "text/plain": [
       "'  (0, 15)\\t1.0\\n  (0, 116)\\t1.0\\n  (0, 127)\\t1.0\\n  (0, 154)\\t1.0\\n  (0, 203)\\t1.0\\n  (0, 207)\\t1.0\\n  (0, 350)\\t1.0\\n  (0, 526)\\t1.0\\n  (0, 753)\\t1.0\\n  (0, 834)\\t1.0\\n  (0, 1202)\\t1.0\\n  (0, 1251)\\t1.0\\n  (0, 1262)\\t1.0\\n  (0, 1275)\\t1.0\\n  (0, 1445)\\t1.0\\n  (0, 1516)\\t1.0\\n  (0, 1673)\\t1.0\\n  (0, 1732)\\t1.0\\n  (0, 2054)\\t1.0\\n  (0, 2136)\\t1.0\\n  (0, 2228)\\t1.0\\n  (0, 2296)\\t1.0\\n  (0, 2314)\\t1.0\\n  (0, 2627)\\t1.0\\n  (0, 2694)\\t1.0\\n  (0, 2822)\\t1.0\\n  (0, 2974)\\t1.0\\n  (0, 2986)\\t1.0\\n  (0, 3114)\\t1.0\\n  (0, 3179)\\t1.0\\n  (0, 3211)\\t1.0\\n  (0, 3284)\\t1.0\\n  (0, 3403)\\t1.0\\n  (0, 3411)\\t1.0\\n  (0, 3560)\\t1.0\\n  (0, 3714)\\t1.0\\n  (0, 3773)\\t1.0\\n  (0, 3872)\\t1.0\\n  (0, 3884)\\t1.0\\n  (0, 3956)\\t1.0\\n  (0, 4092)\\t1.0\\n  (0, 4231)\\t1.0\\n  (0, 4343)\\t1.0\\n  (0, 4393)\\t1.0\\n  (0, 4408)\\t1.0\\n  (0, 4426)\\t1.0\\n  (0, 4668)\\t1.0\\n  (0, 4696)\\t1.0\\n  (0, 4698)\\t1.0\\n  (0, 4756)\\t1.0\\n  (0, 4777)\\t1.0\\n  (0, 4939)\\t1.0\\n  (0, 5101)\\t1.0\\n  (0, 5121)\\t1.0\\n  (0, 5278)\\t1.0\\n  (0, 5429)\\t1.0\\n  (0, 5439)\\t1.0\\n  (0, 5460)\\t1.0\\n  (0, 5696)\\t1.0\\n  (0, 5959)\\t1.0\\n  (0, 6166)\\t1.0\\n  (0, 6199)\\t1.0\\n  (0, 6311)\\t1.0\\n  (0, 6371)\\t1.0\\n  (0, 6466)\\t1.0\\n  (0, 6606)\\t1.0\\n  (0, 6656)\\t1.0\\n  (0, 6680)\\t1.0\\n  (0, 6721)\\t1.0\\n  (0, 6814)\\t1.0\\n  (0, 6973)\\t1.0\\n  (0, 7047)\\t1.0\\n  (0, 7131)\\t1.0\\n  (0, 7321)\\t1.0\\n  (0, 7472)\\t1.0\\n  (0, 7662)\\t1.0\\n  (0, 7663)\\t1.0\\n  (0, 7691)\\t1.0\\n  (0, 7801)\\t1.0\\n  (0, 7986)\\t1.0\\n  (0, 8053)\\t1.0\\n  (0, 8079)\\t1.0\\n  (0, 8221)\\t1.0\\n  (0, 8252)\\t1.0\\n  (0, 8527)\\t1.0\\n  (0, 8633)\\t1.0\\n  (0, 8703)\\t1.0\\n  (0, 8796)\\t1.0\\n  (0, 8939)\\t1.0\\n  (0, 9020)\\t1.0\\n  (0, 9234)\\t1.0\\n  (0, 9244)\\t1.0\\n  (0, 9354)\\t1.0\\n  (0, 9614)\\t1.0'"
      ]
     },
     "metadata": {},
     "execution_count": 8
    }
   ],
   "metadata": {}
  },
  {
   "cell_type": "code",
   "execution_count": 9,
   "source": [
    "rows = 10000\n",
    "cols = 10000\n",
    "density = 0.01\n",
    "\n",
    "# Number of ones and zeros\n",
    "num_ones = int(rows * cols * density)\n",
    "\n",
    "# Generate random indices for ones\n",
    "one_indices = np.random.choice(rows * cols, num_ones, replace=False)\n",
    "\n",
    "# Create the sparse matrix\n",
    "data = np.ones(num_ones, dtype=bool)\n",
    "connectivity_matrix = sp.csc_matrix((data, (np.unravel_index(one_indices, (rows, cols)))), shape=(rows, cols))"
   ],
   "outputs": [],
   "metadata": {}
  },
  {
   "cell_type": "code",
   "execution_count": 12,
   "source": [
    "str(connectivity_matrix[0])"
   ],
   "outputs": [
    {
     "output_type": "execute_result",
     "data": {
      "text/plain": [
       "'  (0, 90)\\tTrue\\n  (0, 92)\\tTrue\\n  (0, 175)\\tTrue\\n  (0, 311)\\tTrue\\n  (0, 399)\\tTrue\\n  (0, 456)\\tTrue\\n  (0, 518)\\tTrue\\n  (0, 620)\\tTrue\\n  (0, 748)\\tTrue\\n  (0, 961)\\tTrue\\n  (0, 963)\\tTrue\\n  (0, 1037)\\tTrue\\n  (0, 1069)\\tTrue\\n  (0, 1080)\\tTrue\\n  (0, 1108)\\tTrue\\n  (0, 1285)\\tTrue\\n  (0, 1320)\\tTrue\\n  (0, 1355)\\tTrue\\n  (0, 1554)\\tTrue\\n  (0, 1676)\\tTrue\\n  (0, 1707)\\tTrue\\n  (0, 1759)\\tTrue\\n  (0, 1771)\\tTrue\\n  (0, 1987)\\tTrue\\n  (0, 1992)\\tTrue\\n  :\\t:\\n  (0, 8221)\\tTrue\\n  (0, 8294)\\tTrue\\n  (0, 8537)\\tTrue\\n  (0, 8576)\\tTrue\\n  (0, 8588)\\tTrue\\n  (0, 8603)\\tTrue\\n  (0, 8632)\\tTrue\\n  (0, 8751)\\tTrue\\n  (0, 8784)\\tTrue\\n  (0, 8809)\\tTrue\\n  (0, 8850)\\tTrue\\n  (0, 8945)\\tTrue\\n  (0, 8958)\\tTrue\\n  (0, 9027)\\tTrue\\n  (0, 9078)\\tTrue\\n  (0, 9241)\\tTrue\\n  (0, 9242)\\tTrue\\n  (0, 9298)\\tTrue\\n  (0, 9402)\\tTrue\\n  (0, 9537)\\tTrue\\n  (0, 9697)\\tTrue\\n  (0, 9700)\\tTrue\\n  (0, 9877)\\tTrue\\n  (0, 9981)\\tTrue\\n  (0, 9982)\\tTrue'"
      ]
     },
     "metadata": {},
     "execution_count": 12
    }
   ],
   "metadata": {}
  },
  {
   "cell_type": "code",
   "execution_count": null,
   "source": [],
   "outputs": [],
   "metadata": {}
  }
 ],
 "metadata": {
  "orig_nbformat": 4,
  "language_info": {
   "name": "python",
   "version": "3.11.3",
   "mimetype": "text/x-python",
   "codemirror_mode": {
    "name": "ipython",
    "version": 3
   },
   "pygments_lexer": "ipython3",
   "nbconvert_exporter": "python",
   "file_extension": ".py"
  },
  "kernelspec": {
   "name": "python3",
   "display_name": "Python 3.11.3 64-bit ('racplusplus': conda)"
  },
  "interpreter": {
   "hash": "b63813d25551306d4e09ad29021fc2d88194acfbaa9625015bea807ad2e643ab"
  }
 },
 "nbformat": 4,
 "nbformat_minor": 2
}