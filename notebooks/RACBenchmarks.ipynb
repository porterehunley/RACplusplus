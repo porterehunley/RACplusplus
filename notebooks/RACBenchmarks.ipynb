{
 "cells": [
  {
   "cell_type": "code",
   "execution_count": 1,
   "id": "5e497824-d3cb-45bb-8209-1af3e4744965",
   "metadata": {},
   "outputs": [
    {
     "name": "stdout",
     "output_type": "stream",
     "text": [
      "Collecting racplusplus\n",
      "  Obtaining dependency information for racplusplus from https://files.pythonhosted.org/packages/7f/eb/c9ef90ac1deda944d054ee39cf296dbb23129972ad617e941308eea0108f/racplusplus-0.1.0-cp311-cp311-macosx_11_0_arm64.whl.metadata\n",
      "  Downloading racplusplus-0.1.0-cp311-cp311-macosx_11_0_arm64.whl.metadata (922 bytes)\n",
      "Downloading racplusplus-0.1.0-cp311-cp311-macosx_11_0_arm64.whl (1.4 MB)\n",
      "\u001b[2K   \u001b[38;2;114;156;31m━━━━━━━━━━━━━━━━━━━━━━━━━━━━━━━━━━━━━━━━\u001b[0m \u001b[32m1.4/1.4 MB\u001b[0m \u001b[31m24.3 MB/s\u001b[0m eta \u001b[36m0:00:00\u001b[0m31m22.9 MB/s\u001b[0m eta \u001b[36m0:00:01\u001b[0m\n",
      "\u001b[?25hInstalling collected packages: racplusplus\n",
      "Successfully installed racplusplus-0.1.0\n"
     ]
    }
   ],
   "source": [
    "!pip install racplusplus"
   ]
  },
  {
   "cell_type": "code",
   "execution_count": null,
   "id": "204db564-a5f4-4470-8aa8-8a31926c067c",
   "metadata": {
    "scrolled": true
   },
   "outputs": [
    {
     "name": "stdout",
     "output_type": "stream",
     "text": [
      "RAC: 0.0007791519165039062Time taken to calculate initial dissimilarities: 0ms\n",
      "Sum of initial neighbor durations: 0ms\n",
      "\n",
      "Sklearn: 0.0011458396911621094\n",
      "RAC: 0.0012049674987792969\n",
      "Sklearn: 0.0019137859344482422\n",
      "Sum of merge durations: 0ms\n",
      "Sum of update neighbor durations: 0ms\n",
      "Sum of update nn durations: 0ms\n",
      "Sum of hash durations: 0ms\n",
      "Average of update percentages: nan\n",
      "Time taken to calculate RAC: 0ms\n",
      "Time taken to calculate initial dissimilarities: 0ms\n",
      "Sum of initial neighbor durations: 0ms\n",
      "Sum of merge durations: 0ms\n",
      "Sum of update neighbor durations: 0ms\n",
      "Sum of update nn durations: 0ms\n",
      "Sum of hash durations: 0ms\n",
      "Average of update percentages: nan\n",
      "Time taken to calculate RAC: 1ms\n",
      "RAC: 0.004086971282958984\n",
      "Sklearn: 0.00357818603515625\n",
      "Time taken to calculate initial dissimilarities: 1ms\n",
      "Sum of initial neighbor durations: 0ms\n",
      "Sum of merge durations: 0ms\n",
      "Sum of update neighbor durations: 0ms\n",
      "Sum of update nn durations: 0ms\n",
      "Sum of hash durations: 0ms\n",
      "Average of update percentages: nan\n",
      "Time taken to calculate RAC: 4ms\n",
      "Time taken to calculate initial dissimilarities: 6ms\n",
      "Sum of initial neighbor durations: 0ms\n",
      "Sum of merge durations: 0ms\n",
      "Sum of update neighbor durations: 0ms\n",
      "Sum of update nn durations: 0ms\n",
      "Sum of hash durations: 0ms\n",
      "Average of update percentages: nan\n",
      "Time taken to calculate RAC: 16ms\n",
      "RAC: 0.016247987747192383\n",
      "Sklearn: 0.008913755416870117\n",
      "Time taken to calculate initial dissimilarities: 16ms\n",
      "Sum of initial neighbor durations: 0ms\n",
      "RAC: 0.03636908531188965\n",
      "Sklearn: 0.021326780319213867\n",
      "Sum of merge durations: 0ms\n",
      "Sum of update neighbor durations: 0ms\n",
      "Sum of update nn durations: 0ms\n",
      "Sum of hash durations: 0ms\n",
      "Average of update percentages: nan\n",
      "Time taken to calculate RAC: 36ms\n",
      "Time taken to calculate initial dissimilarities: 70ms\n",
      "Sum of initial neighbor durations: 0ms\n",
      "RAC: 0.18364977836608887\n",
      "Sklearn: 0.06535696983337402\n",
      "Sum of merge durations: 0ms\n",
      "Sum of update neighbor durations: 0ms\n",
      "Sum of update nn durations: 0ms\n",
      "Sum of hash durations: 0ms\n",
      "Average of update percentages: nan\n",
      "Time taken to calculate RAC: 183ms\n",
      "Time taken to calculate initial dissimilarities: 328ms\n",
      "Sum of initial neighbor durations: 0ms\n",
      "RAC: 0.8584818840026855\n",
      "Sklearn: 0.3615269660949707\n",
      "Sum of merge durations: 0ms\n",
      "Sum of update neighbor durations: 0ms\n",
      "Sum of update nn durations: 0ms\n",
      "Sum of hash durations: 0ms\n",
      "Average of update percentages: nan\n",
      "Time taken to calculate RAC: 857ms\n",
      "Time taken to calculate initial dissimilarities: 1945ms\n",
      "Sum of initial neighbor durations: 0ms\n",
      "RAC: 4.798081159591675\n",
      "Sklearn: 1.6826138496398926\n"
     ]
    }
   ],
   "source": [
    " # Generate Noise\n",
    "import racplusplus\n",
    "import time\n",
    "\n",
    "import matplotlib.pyplot as plt\n",
    "import numpy as np\n",
    "\n",
    "from sklearn.cluster import AgglomerativeClustering\n",
    "from sklearn.neighbors import kneighbors_graph\n",
    "\n",
    "np.random.seed(42)\n",
    "test_points = [100, 200, 400, 800, 1600, 3200, 6400, 12800, 25600, 51200]\n",
    "\n",
    "distance_threshold = .24\n",
    "\n",
    "for point_no in test_points:\n",
    "    sklearn_labels = None\n",
    "    rac_labels = None\n",
    "\n",
    "    X = np.random.random((point_no, 2))\n",
    "    \n",
    "    rac_time = None\n",
    "    sklearn_time = None\n",
    "    if point_no < 13000:\n",
    "        sklearn_start = time.time()\n",
    "        model = AgglomerativeClustering(\n",
    "          linkage=\"average\", connectivity=None, n_clusters=None, distance_threshold=distance_threshold\n",
    "        )\n",
    "        model.fit(X)\n",
    "        labels = model.labels_\n",
    "        sklearn_time = time.time() - sklearn_start\n",
    "\n",
    "    rac_start = time.time()\n",
    "    rac_labels = racplusplus.rac(X, distance_threshold, None, 1000, 8, \"euclidean\")\n",
    "    rac_time = time.time() - rac_start\n",
    "\n",
    "    print(f\"RAC: {rac_time}\")\n",
    "    print(f\"Sklearn: {sklearn_time}\")    \n"
   ]
  },
  {
   "cell_type": "code",
   "execution_count": 27,
   "id": "a6c9e4d7-2d96-4e6f-92df-82aca9eaa868",
   "metadata": {},
   "outputs": [
    {
     "name": "stdout",
     "output_type": "stream",
     "text": [
      "Time taken to calculate initial dissimilarities: 1351ms\n",
      "Sum of initial neighbor durations: 0ms\n",
      "Sum of merge durations: 0ms\n",
      "Sum of update neighbor durations: 0ms\n",
      "Sum of update nn durations: 0ms\n",
      "Sum of hash durations: 0ms\n",
      "Average of update percentages: nan\n",
      "Time taken to calculate RAC: 2873ms\n"
     ]
    }
   ],
   "source": [
    "import racplusplus\n",
    "import time\n",
    "\n",
    "import matplotlib.pyplot as plt\n",
    "import numpy as np\n",
    "\n",
    "from sklearn.cluster import AgglomerativeClustering\n",
    "from sklearn.neighbors import kneighbors_graph\n",
    "\n",
    "np.random.seed(42)\n",
    "\n",
    "X = np.random.random((10000, 768))\n",
    "\n",
    "rac_start = time.time()\n",
    "rac_labels = racplusplus.rac(X, .24, None, 1000, 8, \"cosine\")\n",
    "rac_time = time.time() - rac_start"
   ]
  },
  {
   "cell_type": "code",
   "execution_count": 28,
   "id": "762f5fc4-edb0-4cde-8602-7927005f83d4",
   "metadata": {},
   "outputs": [
    {
     "data": {
      "text/plain": [
       "2.899693012237549"
      ]
     },
     "execution_count": 28,
     "metadata": {},
     "output_type": "execute_result"
    }
   ],
   "source": [
    "rac_time"
   ]
  },
  {
   "cell_type": "code",
   "execution_count": 29,
   "id": "2c654320-2ba5-4aa7-a43a-04a017475565",
   "metadata": {},
   "outputs": [
    {
     "data": {
      "text/plain": [
       "41.462695837020874"
      ]
     },
     "execution_count": 29,
     "metadata": {},
     "output_type": "execute_result"
    }
   ],
   "source": [
    "sklearn_start = time.time()\n",
    "model = AgglomerativeClustering(\n",
    "          linkage=\"average\", connectivity=None, n_clusters=None, distance_threshold=.24, metric='cosine'\n",
    "        )\n",
    "model.fit(X)\n",
    "labels = model.labels_\n",
    "time.time() - sklearn_start"
   ]
  },
  {
   "cell_type": "code",
   "execution_count": 30,
   "id": "f610e133-b77a-44b3-9e80-ddcd7c338ed9",
   "metadata": {},
   "outputs": [
    {
     "data": {
      "text/plain": [
       "2123"
      ]
     },
     "execution_count": 30,
     "metadata": {},
     "output_type": "execute_result"
    }
   ],
   "source": [
    "len(set(labels))"
   ]
  },
  {
   "cell_type": "code",
   "execution_count": 31,
   "id": "cbaa480e-4f26-4dee-b7e3-ecef57849e40",
   "metadata": {},
   "outputs": [
    {
     "data": {
      "text/plain": [
       "2123"
      ]
     },
     "execution_count": 31,
     "metadata": {},
     "output_type": "execute_result"
    }
   ],
   "source": [
    "len(set(rac_labels))"
   ]
  },
  {
   "cell_type": "markdown",
   "id": "142e8c6d-163d-4849-9551-b6d5c02b1e1a",
   "metadata": {},
   "source": [
    "## Dimension Benchmarks"
   ]
  },
  {
   "cell_type": "code",
   "execution_count": 37,
   "id": "33c1130a-f2df-4b5e-8d8c-30559775a953",
   "metadata": {},
   "outputs": [
    {
     "name": "stdout",
     "output_type": "stream",
     "text": [
      "Time taken to calculate initial dissimilarities: 807ms\n",
      "Sum of initial neighbor durations: 0ms\n",
      "Sum of merge durations: 0ms\n",
      "Sum of update neighbor durations: 0ms\n",
      "Sum of update nn durations: 0ms\n",
      "Sum of hash durations: 0ms\n",
      "Average of update percentages: nan\n",
      "Time taken to calculate RAC: 2079ms\n",
      "Time taken to calculate initial dissimilarities: 804ms\n",
      "Sum of initial neighbor durations: 0ms\n",
      "Sum of merge durations: 0ms\n",
      "Sum of update neighbor durations: 0ms\n",
      "Sum of update nn durations: 0ms\n",
      "Sum of hash durations: 0ms\n",
      "Average of update percentages: nan\n",
      "Time taken to calculate RAC: 2127ms\n",
      "Time taken to calculate initial dissimilarities: 820ms\n",
      "Sum of initial neighbor durations: 0ms\n",
      "Sum of merge durations: 0ms\n",
      "Sum of update neighbor durations: 0ms\n",
      "Sum of update nn durations: 0ms\n",
      "Sum of hash durations: 0ms\n",
      "Average of update percentages: nan\n",
      "Time taken to calculate RAC: 2201ms\n",
      "Time taken to calculate initial dissimilarities: 818ms\n",
      "Sum of initial neighbor durations: 0ms\n",
      "Sum of merge durations: 0ms\n",
      "Sum of update neighbor durations: 0ms\n",
      "Sum of update nn durations: 0ms\n",
      "Sum of hash durations: 0ms\n",
      "Average of update percentages: nan\n",
      "Time taken to calculate RAC: 2278ms\n",
      "Time taken to calculate initial dissimilarities: 823ms\n",
      "Sum of initial neighbor durations: 0ms\n",
      "Sum of merge durations: 0ms\n",
      "Sum of update neighbor durations: 0ms\n",
      "Sum of update nn durations: 0ms\n",
      "Sum of hash durations: 0ms\n",
      "Average of update percentages: nan\n",
      "Time taken to calculate RAC: 2372ms\n",
      "Time taken to calculate initial dissimilarities: 823ms\n",
      "Sum of initial neighbor durations: 0ms\n",
      "Sum of merge durations: 0ms\n",
      "Sum of update neighbor durations: 0ms\n",
      "Sum of update nn durations: 0ms\n",
      "Sum of hash durations: 0ms\n",
      "Average of update percentages: nan\n",
      "Time taken to calculate RAC: 2458ms\n",
      "Time taken to calculate initial dissimilarities: 869ms\n",
      "Sum of initial neighbor durations: 0ms\n",
      "Sum of merge durations: 0ms\n",
      "Sum of update neighbor durations: 0ms\n",
      "Sum of update nn durations: 0ms\n",
      "Sum of hash durations: 0ms\n",
      "Average of update percentages: nan\n",
      "Time taken to calculate RAC: 2626ms\n",
      "Time taken to calculate initial dissimilarities: 1066ms\n",
      "Sum of initial neighbor durations: 0ms\n",
      "Sum of merge durations: 0ms\n",
      "Sum of update neighbor durations: 0ms\n",
      "Sum of update nn durations: 0ms\n",
      "Sum of hash durations: 0ms\n",
      "Average of update percentages: nan\n",
      "Time taken to calculate RAC: 2763ms\n",
      "Time taken to calculate initial dissimilarities: 1149ms\n",
      "Sum of initial neighbor durations: 0ms\n",
      "Sum of merge durations: 0ms\n",
      "Sum of update neighbor durations: 0ms\n",
      "Sum of update nn durations: 0ms\n",
      "Sum of hash durations: 0ms\n",
      "Average of update percentages: nan\n",
      "Time taken to calculate RAC: 2751ms\n",
      "Time taken to calculate initial dissimilarities: 1608ms\n",
      "Sum of initial neighbor durations: 0ms\n",
      "Sum of merge durations: 0ms\n",
      "Sum of update neighbor durations: 0ms\n",
      "Sum of update nn durations: 0ms\n",
      "Sum of hash durations: 0ms\n",
      "Average of update percentages: nan\n",
      "Time taken to calculate RAC: 3124ms\n",
      "Time taken to calculate initial dissimilarities: 2549ms\n",
      "Sum of initial neighbor durations: 0ms\n",
      "Sum of merge durations: 0ms\n",
      "Sum of update neighbor durations: 0ms\n",
      "Sum of update nn durations: 0ms\n",
      "Sum of hash durations: 0ms\n",
      "Average of update percentages: nan\n",
      "Time taken to calculate RAC: 3952ms\n"
     ]
    }
   ],
   "source": [
    "import racplusplus\n",
    "import time\n",
    "\n",
    "import matplotlib.pyplot as plt\n",
    "import numpy as np\n",
    "\n",
    "from sklearn.cluster import AgglomerativeClustering\n",
    "from sklearn.neighbors import kneighbors_graph\n",
    "\n",
    "np.random.seed(42)\n",
    "\n",
    "dimensions = [2, 4, 8, 16, 32, 64, 128, 256, 512, 1024, 1536]\n",
    "distance_threshold = .24\n",
    "\n",
    "rac_times = []\n",
    "sklearn_times = []\n",
    "for dim in dimensions: \n",
    "    sklearn_labels = None\n",
    "    rac_labels = None\n",
    "\n",
    "    X = np.random.random((10000, dim))\n",
    "    \n",
    "    sklearn_start = time.time()\n",
    "    model = AgglomerativeClustering(\n",
    "      linkage=\"average\", connectivity=None, n_clusters=None, distance_threshold=distance_threshold\n",
    "    )\n",
    "    model.fit(X)\n",
    "    labels = model.labels_\n",
    "    sklearn_times.append(time.time() - sklearn_start)\n",
    "\n",
    "    rac_start = time.time()\n",
    "    rac_labels = racplusplus.rac(X, distance_threshold, None, 1000, 8, \"cosine\")\n",
    "    rac_times.append(time.time() - rac_start)\n",
    "\n",
    "    "
   ]
  },
  {
   "cell_type": "code",
   "execution_count": 40,
   "id": "f3c96cd0-a63f-42b2-8dad-375cfebf9e4e",
   "metadata": {},
   "outputs": [
    {
     "data": {
      "image/png": "[encoded data removed]",
      "text/plain": [
       "<Figure size 1000x600 with 1 Axes>"
      ]
     },
     "metadata": {},
     "output_type": "display_data"
    }
   ],
   "source": [
    "plt.figure(figsize=(10, 6))\n",
    "\n",
    "# Plot data\n",
    "plt.plot(dimensions, sklearn_times, label='sklearn')\n",
    "plt.plot(dimensions, rac_times, label='rac++')\n",
    "\n",
    "# Add title and labels\n",
    "\n",
    "\n",
    "plt.title(\"Computational Time vs Data Dimensionality\")\n",
    "plt.xlabel(\"x\")\n",
    "plt.ylabel(\"y\")\n",
    "\n",
    "# Show legend\n",
    "plt.legend()\n",
    "\n",
    "# Show the plot\n",
    "plt.show()"
   ]
  },
  {
   "cell_type": "code",
   "execution_count": 36,
   "id": "056f3912-b211-4608-bdf5-13f849311359",
   "metadata": {},
   "outputs": [
    {
     "data": {
      "text/plain": [
       "[26.697892904281616]"
      ]
     },
     "execution_count": 36,
     "metadata": {},
     "output_type": "execute_result"
    }
   ],
   "source": [
    "sklearn_times"
   ]
  },
  {
   "cell_type": "code",
   "execution_count": 3,
   "id": "97ce03d0-fb0a-403e-adb0-42ad903f86c5",
   "metadata": {},
   "outputs": [],
   "source": [
    "import racplusplus\n",
    "\n"
   ]
  },
  {
   "cell_type": "code",
   "execution_count": 2,
   "id": "114ededd-e392-4b77-8b95-c36721b26ab6",
   "metadata": {},
   "outputs": [
    {
     "ename": "NameError",
     "evalue": "name 'racplusplus' is not defined",
     "output_type": "error",
     "traceback": [
      "\u001b[0;31m---------------------------------------------------------------------------\u001b[0m",
      "\u001b[0;31mNameError\u001b[0m                                 Traceback (most recent call last)",
      "Cell \u001b[0;32mIn[2], line 37\u001b[0m\n\u001b[1;32m     35\u001b[0m rac_start \u001b[38;5;241m=\u001b[39m time\u001b[38;5;241m.\u001b[39mtime()\n\u001b[1;32m     36\u001b[0m knn \u001b[38;5;241m=\u001b[39m knn \u001b[38;5;241m+\u001b[39m knn\u001b[38;5;241m.\u001b[39mT\n\u001b[0;32m---> 37\u001b[0m rac_labels \u001b[38;5;241m=\u001b[39m \u001b[43mracplusplus\u001b[49m\u001b[38;5;241m.\u001b[39mrac(X, distance_threshold, knn, \u001b[38;5;241m1000\u001b[39m, \u001b[38;5;241m8\u001b[39m, \u001b[38;5;124m\"\u001b[39m\u001b[38;5;124mcosine\u001b[39m\u001b[38;5;124m\"\u001b[39m)\n\u001b[1;32m     38\u001b[0m rac_time \u001b[38;5;241m=\u001b[39m time\u001b[38;5;241m.\u001b[39mtime() \u001b[38;5;241m-\u001b[39m rac_start\n\u001b[1;32m     40\u001b[0m \u001b[38;5;28mprint\u001b[39m(\u001b[38;5;124mf\u001b[39m\u001b[38;5;124m\"\u001b[39m\u001b[38;5;124mRAC: \u001b[39m\u001b[38;5;132;01m{\u001b[39;00mrac_time\u001b[38;5;132;01m}\u001b[39;00m\u001b[38;5;124m\"\u001b[39m)\n",
      "\u001b[0;31mNameError\u001b[0m: name 'racplusplus' is not defined"
     ]
    }
   ],
   "source": [
    " # Generate Noise\n",
    "import time\n",
    "\n",
    "import matplotlib.pyplot as plt\n",
    "import numpy as np\n",
    "\n",
    "from sklearn.cluster import AgglomerativeClustering\n",
    "from sklearn.neighbors import kneighbors_graph\n",
    "\n",
    "np.random.seed(42)\n",
    "test_points = [100, 200, 400, 800, 1600, 3200, 6400, 12800, 25600, 51200]\n",
    "\n",
    "distance_threshold = .24\n",
    "\n",
    "for point_no in test_points:\n",
    "    sklearn_labels = None\n",
    "    rac_labels = None\n",
    "\n",
    "    X = np.random.random((point_no, 25))\n",
    "    \n",
    "    rac_time = None\n",
    "    sklearn_time = None\n",
    "\n",
    "    knn = kneighbors_graph(X, 30, include_self=False)\n",
    "    \n",
    "    if point_no < 13000:\n",
    "        sklearn_start = time.time()\n",
    "        model = AgglomerativeClustering(\n",
    "          linkage=\"average\", connectivity=knn, n_clusters=None, distance_threshold=distance_threshold, metric='cosine'\n",
    "        )\n",
    "        model.fit(X)\n",
    "        labels = model.labels_\n",
    "        sklearn_time = time.time() - sklearn_start\n",
    "\n",
    "    rac_start = time.time()\n",
    "    knn = knn + knn.T\n",
    "    rac_labels = racplusplus.rac(X, distance_threshold, knn, 1000, 8, \"cosine\")\n",
    "    rac_time = time.time() - rac_start\n",
    "\n",
    "    print(f\"RAC: {rac_time}\")\n",
    "    print(f\"Sklearn: {sklearn_time}\")    "
   ]
  },
  {
   "cell_type": "code",
   "execution_count": 24,
   "id": "b96ae4be-550c-4422-8c61-5d5b4648927a",
   "metadata": {},
   "outputs": [],
   "source": [
    "import time\n",
    "\n",
    "import matplotlib.pyplot as plt\n",
    "import numpy as np\n",
    "import racplusplus\n",
    "\n",
    "from sklearn.cluster import AgglomerativeClustering\n",
    "from sklearn.neighbors import kneighbors_graph\n",
    "\n",
    "X = np.random.random((12000, 25))\n",
    "distance_threshold = .17\n",
    "\n",
    "knn = kneighbors_graph(X, 30, include_self=False)\n",
    "symmetric = knn + knn.T\n",
    "rac_labels = racplusplus.rac(X, distance_threshold, symmetric, 1000, 8, \"cosine\")"
   ]
  },
  {
   "cell_type": "markdown",
   "id": "95645872-308b-4c10-8350-8493eeb72c34",
   "metadata": {},
   "source": [
    "## Computational Scaling"
   ]
  },
  {
   "cell_type": "code",
   "execution_count": 43,
   "id": "72a7e09c-fc6c-4147-922f-88193f663f95",
   "metadata": {},
   "outputs": [
    {
     "ename": "KeyboardInterrupt",
     "evalue": "",
     "output_type": "error",
     "traceback": [
      "\u001b[0;31m---------------------------------------------------------------------------\u001b[0m",
      "\u001b[0;31mKeyboardInterrupt\u001b[0m                         Traceback (most recent call last)",
      "Cell \u001b[0;32mIn[43], line 19\u001b[0m\n\u001b[1;32m     17\u001b[0m symmetric \u001b[38;5;241m=\u001b[39m knn \u001b[38;5;241m+\u001b[39m knn\u001b[38;5;241m.\u001b[39mT\n\u001b[1;32m     18\u001b[0m start \u001b[38;5;241m=\u001b[39m time\u001b[38;5;241m.\u001b[39mtime()\n\u001b[0;32m---> 19\u001b[0m rac_labels \u001b[38;5;241m=\u001b[39m \u001b[43mracplusplus\u001b[49m\u001b[38;5;241;43m.\u001b[39;49m\u001b[43mrac\u001b[49m\u001b[43m(\u001b[49m\u001b[43mX\u001b[49m\u001b[43m,\u001b[49m\u001b[43m \u001b[49m\u001b[43mdistance_threshold\u001b[49m\u001b[43m,\u001b[49m\u001b[43m \u001b[49m\u001b[43msymmetric\u001b[49m\u001b[43m,\u001b[49m\u001b[43m \u001b[49m\u001b[38;5;241;43m1000\u001b[39;49m\u001b[43m,\u001b[49m\u001b[43m \u001b[49m\u001b[38;5;241;43m8\u001b[39;49m\u001b[43m,\u001b[49m\u001b[43m \u001b[49m\u001b[38;5;124;43m\"\u001b[39;49m\u001b[38;5;124;43mcosine\u001b[39;49m\u001b[38;5;124;43m\"\u001b[39;49m\u001b[43m)\u001b[49m\n\u001b[1;32m     20\u001b[0m rac_times\u001b[38;5;241m.\u001b[39mappend(time\u001b[38;5;241m.\u001b[39mtime() \u001b[38;5;241m-\u001b[39m start)\n",
      "\u001b[0;31mKeyboardInterrupt\u001b[0m: "
     ]
    }
   ],
   "source": [
    "import time\n",
    "\n",
    "import matplotlib.pyplot as plt\n",
    "import numpy as np\n",
    "import racplusplus\n",
    "\n",
    "from sklearn.cluster import AgglomerativeClustering\n",
    "from sklearn.neighbors import kneighbors_graph\n",
    "\n",
    "points = [1000, 2000, 4000, 6000, 10000, 14000, 18000, 22000, 26000, 32000, 64000]\n",
    "rac_times = []\n",
    "for point_no in points:\n",
    "    X = np.random.random((point_no, 25))\n",
    "    distance_threshold = .17\n",
    "    \n",
    "    knn = kneighbors_graph(X, 30, include_self=False)\n",
    "    symmetric = knn + knn.T\n",
    "    start = time.time()\n",
    "    rac_labels = racplusplus.rac(X, distance_threshold, symmetric, 1000, 8, \"cosine\")\n",
    "    rac_times.append(time.time() - start)\n",
    "    "
   ]
  },
  {
   "cell_type": "code",
   "execution_count": 35,
   "id": "54af7e71-39b5-46aa-834d-49987f6cdb1d",
   "metadata": {},
   "outputs": [
    {
     "data": {
      "text/plain": [
       "[0.041554927825927734,\n",
       " 0.05135202407836914,\n",
       " 0.12568092346191406,\n",
       " 0.2450869083404541,\n",
       " 0.5605409145355225,\n",
       " 1.0138607025146484,\n",
       " 1.842505931854248,\n",
       " 2.800041913986206,\n",
       " 3.687908172607422,\n",
       " 5.590572118759155,\n",
       " 22.499607801437378]"
      ]
     },
     "execution_count": 35,
     "metadata": {},
     "output_type": "execute_result"
    }
   ],
   "source": [
    "rac_times"
   ]
  },
  {
   "cell_type": "code",
   "execution_count": 18,
   "id": "03676edd-78cf-4562-bb49-021a638489b1",
   "metadata": {},
   "outputs": [
    {
     "name": "stdout",
     "output_type": "stream",
     "text": [
      "1000\n",
      "2000\n",
      "4000\n",
      "6000\n",
      "10000\n",
      "14000\n",
      "18000\n",
      "22000\n",
      "26000\n",
      "32000\n"
     ]
    }
   ],
   "source": [
    "import time\n",
    "\n",
    "import matplotlib.pyplot as plt\n",
    "import numpy as np\n",
    "import racplusplus\n",
    "\n",
    "from sklearn.cluster import AgglomerativeClustering\n",
    "from sklearn.neighbors import kneighbors_graph\n",
    "\n",
    "points = [1000, 2000, 4000, 6000, 10000, 14000, 18000, 22000, 26000, 32000]\n",
    "sklearn_times = []\n",
    "for point_no in points:\n",
    "    X = np.random.random((point_no, 25))\n",
    "    distance_threshold = .17\n",
    "    print(point_no)\n",
    "    \n",
    "    knn = kneighbors_graph(X, 30, include_self=False)\n",
    "    start = time.time()\n",
    "    model = AgglomerativeClustering(\n",
    "      linkage=\"average\", connectivity=knn, n_clusters=None, distance_threshold=distance_threshold, metric='cosine'\n",
    "    )\n",
    "    model.fit(X)\n",
    "    sklearn_times.append(time.time() - start)"
   ]
  },
  {
   "cell_type": "code",
   "execution_count": 42,
   "id": "b31c8588-b13f-41ee-b41d-af2f2ab04ec5",
   "metadata": {},
   "outputs": [
    {
     "data": {
      "image/png": "[encoded data removed]",
      "text/plain": [
       "<Figure size 1000x600 with 1 Axes>"
      ]
     },
     "metadata": {},
     "output_type": "display_data"
    }
   ],
   "source": [
    "plt.figure(figsize=(10, 6))\n",
    "points_rac = [1000, 2000, 4000, 6000, 10000, 14000, 18000, 22000, 26000, 32000, 64000]\n",
    "points_sklearn = [1000, 2000, 4000, 6000, 10000, 14000, 18000, 22000, 26000, 32000]\n",
    "# Plot data\n",
    "plt.plot(points_sklearn, sklearn_times, label='Traditional', marker='o')\n",
    "plt.plot(points_rac, rac_times, label='RAC++', marker='o')\n",
    "\n",
    "# Add title and labels\n",
    "\n",
    "\n",
    "plt.title(\"Clock Time vs Number of Points\")\n",
    "plt.xlabel(\"number of points\")\n",
    "plt.ylabel(\"seconds\")\n",
    "\n",
    "# Show legend\n",
    "plt.legend()\n",
    "\n",
    "# Show the plot\n",
    "plt.show()"
   ]
  },
  {
   "cell_type": "code",
   "execution_count": 23,
   "id": "0d2e987c-013c-4abe-9d4d-7e3e086c8d09",
   "metadata": {},
   "outputs": [],
   "source": [
    "import time\n",
    "\n",
    "import matplotlib.pyplot as plt\n",
    "import numpy as np\n",
    "import racplusplus\n",
    "\n",
    "from sklearn.cluster import AgglomerativeClustering\n",
    "from sklearn.neighbors import kneighbors_graph\n",
    "\n",
    "points = [1000, 2000, 4000, 6000, 10000, 14000, 18000, 22000, 26000, 32000, 64000]\n",
    "rac_cpu_times = []\n",
    "for point_no in points:\n",
    "    X = np.random.random((point_no, 25))\n",
    "    distance_threshold = .17\n",
    "    \n",
    "    knn = kneighbors_graph(X, 30, include_self=False)\n",
    "    symmetric = knn + knn.T\n",
    "    start = time.process_time()\n",
    "    rac_labels = racplusplus.rac(X, distance_threshold, symmetric, 1000, 8, \"cosine\")\n",
    "    rac_cpu_times.append(time.process_time() - start)\n"
   ]
  },
  {
   "cell_type": "code",
   "execution_count": 24,
   "id": "9a480212-3ab9-4e9d-a77b-75af7401edfe",
   "metadata": {},
   "outputs": [
    {
     "data": {
      "text/plain": [
       "[0.07258499999988999,\n",
       " 0.11269199999992452,\n",
       " 0.3382010000000264,\n",
       " 0.5536779999999908,\n",
       " 1.575038000000177,\n",
       " 2.222785000000158,\n",
       " 3.880975000000035,\n",
       " 5.734820000000127,\n",
       " 8.530587999999852,\n",
       " 12.47596499999986,\n",
       " 50.347352999999885]"
      ]
     },
     "execution_count": 24,
     "metadata": {},
     "output_type": "execute_result"
    }
   ],
   "source": [
    "rac_cpu_times"
   ]
  },
  {
   "cell_type": "code",
   "execution_count": 28,
   "id": "3e8a1a14-2fab-4f02-aa46-b32e736ac460",
   "metadata": {},
   "outputs": [
    {
     "name": "stdout",
     "output_type": "stream",
     "text": [
      "1000\n",
      "2000\n",
      "4000\n",
      "6000\n",
      "10000\n",
      "14000\n",
      "18000\n",
      "22000\n",
      "26000\n",
      "32000\n"
     ]
    }
   ],
   "source": [
    "import time\n",
    "\n",
    "import matplotlib.pyplot as plt\n",
    "import numpy as np\n",
    "import racplusplus\n",
    "\n",
    "from sklearn.cluster import AgglomerativeClustering\n",
    "from sklearn.neighbors import kneighbors_graph\n",
    "\n",
    "points = [1000, 2000, 4000, 6000, 10000, 14000, 18000, 22000, 26000, 32000]\n",
    "sklearn_cpu_times = []\n",
    "for point_no in points:\n",
    "    X = np.random.random((point_no, 25))\n",
    "    distance_threshold = .17\n",
    "    print(point_no)\n",
    "    \n",
    "    knn = kneighbors_graph(X, 30, include_self=False)\n",
    "    start = time.time()\n",
    "    model = AgglomerativeClustering(\n",
    "      linkage=\"average\", connectivity=knn, n_clusters=None, distance_threshold=distance_threshold, metric='cosine'\n",
    "    )\n",
    "    model.fit(X)\n",
    "    sklearn_cpu_times.append(time.time() - start)"
   ]
  },
  {
   "cell_type": "code",
   "execution_count": 41,
   "id": "78e2890e-db33-4192-a1f4-3e6414149084",
   "metadata": {},
   "outputs": [
    {
     "data": {
      "image/png": "[encoded data removed]",
      "text/plain": [
       "<Figure size 1000x600 with 1 Axes>"
      ]
     },
     "metadata": {},
     "output_type": "display_data"
    }
   ],
   "source": [
    "plt.figure(figsize=(10, 6))\n",
    "points_rac = [1000, 2000, 4000, 6000, 10000, 14000, 18000, 22000, 26000, 32000, 64000]\n",
    "points_sklearn = [1000, 2000, 4000, 6000, 10000, 14000, 18000, 22000, 26000, 32000]\n",
    "# Plot data\n",
    "plt.plot(points_sklearn, sklearn_times, label='Traditional', marker='o')\n",
    "plt.plot(points_rac, rac_cpu_times, label='RAC++', marker='o')\n",
    "\n",
    "# Add title and labels\n",
    "\n",
    "\n",
    "plt.title(\"CPU Time vs Number of Points\")\n",
    "plt.xlabel(\"number of points\")\n",
    "plt.ylabel(\"seconds\")\n",
    "\n",
    "# Show legend\n",
    "plt.legend()\n",
    "\n",
    "# Show the plot\n",
    "plt.show()"
   ]
  },
  {
   "cell_type": "markdown",
   "id": "c2ecdee5-b19a-4b14-b096-48b513f58786",
   "metadata": {},
   "source": [
    "## Threaded vs Not"
   ]
  },
  {
   "cell_type": "code",
   "execution_count": 37,
   "id": "df9427f3-a1e8-4aff-bd68-383eecf703ee",
   "metadata": {},
   "outputs": [
    {
     "name": "stdout",
     "output_type": "stream",
     "text": [
      "1000\n",
      "2000\n",
      "4000\n",
      "6000\n",
      "10000\n",
      "14000\n",
      "18000\n",
      "22000\n",
      "26000\n",
      "32000\n",
      "64000\n"
     ]
    }
   ],
   "source": [
    "import time\n",
    "\n",
    "import matplotlib.pyplot as plt\n",
    "import numpy as np\n",
    "import racplusplus\n",
    "\n",
    "from sklearn.cluster import AgglomerativeClustering\n",
    "from sklearn.neighbors import kneighbors_graph\n",
    "\n",
    "points = [1000, 2000, 4000, 6000, 10000, 14000, 18000, 22000, 26000, 32000, 64000]\n",
    "single_rac_times = []\n",
    "for point_no in points:\n",
    "    X = np.random.random((point_no, 25))\n",
    "    distance_threshold = .17\n",
    "    print(point_no)\n",
    "    \n",
    "    knn = kneighbors_graph(X, 30, include_self=False)\n",
    "    symmetric = knn + knn.T\n",
    "    start = time.time()\n",
    "    rac_labels = racplusplus.rac(X, distance_threshold, symmetric, 1000, 1, \"cosine\")\n",
    "    single_rac_times.append(time.time() - start)"
   ]
  },
  {
   "cell_type": "code",
   "execution_count": 38,
   "id": "173d8605-31c4-4179-bdbd-faa29bc4c3ef",
   "metadata": {},
   "outputs": [
    {
     "data": {
      "text/plain": [
       "[0.0325319766998291,\n",
       " 0.0643308162689209,\n",
       " 0.17823195457458496,\n",
       " 0.34055590629577637,\n",
       " 0.8070352077484131,\n",
       " 1.7499730587005615,\n",
       " 2.7152209281921387,\n",
       " 4.242125988006592,\n",
       " 5.951447248458862,\n",
       " 9.005221128463745,\n",
       " 36.65319299697876]"
      ]
     },
     "execution_count": 38,
     "metadata": {},
     "output_type": "execute_result"
    }
   ],
   "source": [
    "single_rac_times"
   ]
  },
  {
   "cell_type": "code",
   "execution_count": 40,
   "id": "a9843c31-c66e-4af1-9d46-e9fcb0dfe605",
   "metadata": {},
   "outputs": [
    {
     "data": {
      "image/png": "[encoded data removed]",
      "text/plain": [
       "<Figure size 1000x600 with 1 Axes>"
      ]
     },
     "metadata": {},
     "output_type": "display_data"
    }
   ],
   "source": [
    "plt.figure(figsize=(10, 6))\n",
    "points_rac = [1000, 2000, 4000, 6000, 10000, 14000, 18000, 22000, 26000, 32000, 64000]\n",
    "# Plot data\n",
    "plt.plot(points_rac, single_rac_times, label='RAC++ single', marker='o')\n",
    "plt.plot(points_rac, rac_times, label='RAC++ multi', marker='o')\n",
    "\n",
    "# Add title and labels\n",
    "\n",
    "\n",
    "plt.title(\"Single Threaded vs Multi-core\")\n",
    "plt.xlabel(\"number of points\")\n",
    "plt.ylabel(\"seconds\")\n",
    "\n",
    "# Show legend\n",
    "plt.legend()\n",
    "\n",
    "# Show the plot\n",
    "plt.show()"
   ]
  },
  {
   "cell_type": "code",
   "execution_count": null,
   "id": "769abaff-dae6-43bc-af1b-405120adce1a",
   "metadata": {},
   "outputs": [],
   "source": []
  }
 ],
 "metadata": {
  "kernelspec": {
   "display_name": "Python 3 (ipykernel)",
   "language": "python",
   "name": "python3"
  },
  "language_info": {
   "codemirror_mode": {
    "name": "ipython",
    "version": 3
   },
   "file_extension": ".py",
   "mimetype": "text/x-python",
   "name": "python",
   "nbconvert_exporter": "python",
   "pygments_lexer": "ipython3",
   "version": "3.11.4"
  }
 },
 "nbformat": 4,
 "nbformat_minor": 5
}
